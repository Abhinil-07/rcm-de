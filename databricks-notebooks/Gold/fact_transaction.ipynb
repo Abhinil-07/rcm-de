{
 "cells": [
  {
   "cell_type": "code",
   "execution_count": 0,
   "metadata": {
    "application/vnd.databricks.v1+cell": {
     "cellMetadata": {
      "byteLimit": 2048000,
      "rowLimit": 10000
     },
     "inputWidgets": {},
     "nuid": "4201a5de-7d6d-4837-87e7-e6313005f672",
     "showTitle": false,
     "tableResultSettingsMap": {},
     "title": ""
    }
   },
   "outputs": [],
   "source": [
    "create table if not exists gold.fact_transactions\n",
    "(\n",
    "  TransactionID string,\n",
    "  SRC_TransactionID string,\n",
    "  EncounterID string,\n",
    "  FK_PatientID string,\n",
    "  FK_ProviderID string,\n",
    "  FK_DeptID string,\n",
    "  ICDCode string,\n",
    "  ProcedureCode string,\n",
    "  VisitType string,\n",
    "  ServiceDate date,\n",
    "  PaidDate date,\n",
    "  Amount double,\n",
    "  PaidAmount double,\n",
    "  AmountType string,\n",
    "  ClaimID string,\n",
    "  datasource string,\n",
    "  refreshed_at timestamp\n",
    ")"
   ]
  },
  {
   "cell_type": "code",
   "execution_count": 0,
   "metadata": {
    "application/vnd.databricks.v1+cell": {
     "cellMetadata": {
      "byteLimit": 2048000,
      "rowLimit": 10000
     },
     "inputWidgets": {},
     "nuid": "6a201299-da14-4e10-9fe8-b9dac198c2a6",
     "showTitle": false,
     "tableResultSettingsMap": {},
     "title": ""
    }
   },
   "outputs": [],
   "source": [
    "\n",
    "truncate table gold.fact_transactions"
   ]
  },
  {
   "cell_type": "code",
   "execution_count": 0,
   "metadata": {
    "application/vnd.databricks.v1+cell": {
     "cellMetadata": {
      "byteLimit": 2048000,
      "rowLimit": 10000
     },
     "inputWidgets": {},
     "nuid": "c416cfa8-88a9-4f3e-94b7-51cb726bd51b",
     "showTitle": false,
     "tableResultSettingsMap": {},
     "title": ""
    }
   },
   "outputs": [],
   "source": [
    "insert into gold.fact_transactions\n",
    "select \n",
    "  t.TransactionID, \n",
    "  t.SRC_TransactionID,\n",
    "  t.EncounterID,\n",
    "  concat(t.PatientID,'-',t.datasource ) as FK_Patient_ID,\n",
    "  case when t.datasource='hos-a' then concat('H1-',t.providerID) else concat('H2-',t.providerID ) end as FK_Provider_ID, \n",
    "  concat(t.DeptID,'-',t.datasource ) as FK_Dept_ID, \n",
    "  t.ICDCode,\n",
    "  t.ProcedureCode CPT_Code,\n",
    "  t.VisitType,\n",
    "  t.ServiceDate, \n",
    "  t.PaidDate,\n",
    "  t.Amount Charge_Amt, \n",
    "  t.PaidAmount Paid_Amt, \n",
    "  t.AmountType,\n",
    "  t.ClaimID,\n",
    "  t.datasource,\n",
    "  current_timestamp()\n",
    "  from silver.transactions t \n",
    "  where t.is_current=true and t.is_quarantined=false\n"
   ]
  },
  {
   "cell_type": "code",
   "execution_count": 0,
   "metadata": {
    "application/vnd.databricks.v1+cell": {
     "cellMetadata": {
      "byteLimit": 2048000,
      "rowLimit": 10000
     },
     "inputWidgets": {},
     "nuid": "29ec8035-98b7-4b40-aa8c-a03513d5872d",
     "showTitle": false,
     "tableResultSettingsMap": {},
     "title": ""
    }
   },
   "outputs": [],
   "source": [
    "select * from gold.fact_transactions"
   ]
  },
  {
   "cell_type": "code",
   "execution_count": 0,
   "metadata": {
    "application/vnd.databricks.v1+cell": {
     "cellMetadata": {},
     "inputWidgets": {},
     "nuid": "c45eb738-9ab9-4bd9-bf01-8ce16f94937a",
     "showTitle": false,
     "tableResultSettingsMap": {},
     "title": ""
    }
   },
   "outputs": [],
   "source": []
  }
 ],
 "metadata": {
  "application/vnd.databricks.v1+notebook": {
   "computePreferences": null,
   "dashboards": [],
   "environmentMetadata": {
    "base_environment": "",
    "environment_version": "2"
   },
   "inputWidgetPreferences": null,
   "language": "sql",
   "notebookMetadata": {
    "pythonIndentUnit": 4
   },
   "notebookName": "fact_transaction",
   "widgets": {}
  },
  "language_info": {
   "name": "sql"
  }
 },
 "nbformat": 4,
 "nbformat_minor": 0
}
