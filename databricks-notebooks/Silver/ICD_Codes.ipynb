{
 "cells": [
  {
   "cell_type": "code",
   "execution_count": 0,
   "metadata": {
    "application/vnd.databricks.v1+cell": {
     "cellMetadata": {
      "byteLimit": 2048000,
      "rowLimit": 10000
     },
     "inputWidgets": {},
     "nuid": "6fbf57f3-a1ab-40dc-8aa7-a05d41a2c16b",
     "showTitle": false,
     "tableResultSettingsMap": {},
     "title": ""
    }
   },
   "outputs": [],
   "source": [
    "dbutils.fs.ls(\"/mnt/rcmabhi/bronze\")"
   ]
  },
  {
   "cell_type": "code",
   "execution_count": 0,
   "metadata": {
    "application/vnd.databricks.v1+cell": {
     "cellMetadata": {
      "byteLimit": 2048000,
      "rowLimit": 10000
     },
     "inputWidgets": {},
     "nuid": "317a9ad2-6b54-43cc-8188-17860c722905",
     "showTitle": false,
     "tableResultSettingsMap": {},
     "title": ""
    }
   },
   "outputs": [],
   "source": [
    "path =\"/mnt/rcmabhi/bronze/icd_codes\""
   ]
  },
  {
   "cell_type": "code",
   "execution_count": 0,
   "metadata": {
    "application/vnd.databricks.v1+cell": {
     "cellMetadata": {
      "byteLimit": 2048000,
      "rowLimit": 10000
     },
     "inputWidgets": {},
     "nuid": "4f4a92de-ba30-46bd-aaf8-11968a77d5db",
     "showTitle": false,
     "tableResultSettingsMap": {},
     "title": ""
    }
   },
   "outputs": [],
   "source": [
    "df = spark.read.parquet(path)"
   ]
  },
  {
   "cell_type": "code",
   "execution_count": 0,
   "metadata": {
    "application/vnd.databricks.v1+cell": {
     "cellMetadata": {
      "byteLimit": 2048000,
      "rowLimit": 10000
     },
     "inputWidgets": {},
     "nuid": "5c324976-47f5-43c3-b9f8-4bf7d9480da0",
     "showTitle": false,
     "tableResultSettingsMap": {},
     "title": ""
    }
   },
   "outputs": [],
   "source": [
    "df.createOrReplaceTempView(\"staging_icd_codes\")"
   ]
  },
  {
   "cell_type": "code",
   "execution_count": 0,
   "metadata": {
    "application/vnd.databricks.v1+cell": {
     "cellMetadata": {
      "byteLimit": 2048000,
      "implicitDf": true,
      "rowLimit": 10000
     },
     "inputWidgets": {},
     "nuid": "7ff8e453-2ed0-4c37-af76-c18a64c549b5",
     "showTitle": false,
     "tableResultSettingsMap": {},
     "title": ""
    }
   },
   "outputs": [],
   "source": [
    "%sql\n",
    "CREATE TABLE IF NOT EXISTS silver.icd_codes (\n",
    "    icd_code STRING,\n",
    "    icd_code_type STRING,\n",
    "    code_description STRING,\n",
    "    inserted_date DATE,\n",
    "    updated_date DATE,\n",
    "    is_current_flag BOOLEAN\n",
    ")"
   ]
  },
  {
   "cell_type": "code",
   "execution_count": 0,
   "metadata": {
    "application/vnd.databricks.v1+cell": {
     "cellMetadata": {
      "byteLimit": 2048000,
      "implicitDf": true,
      "rowLimit": 10000
     },
     "inputWidgets": {},
     "nuid": "ec853410-c467-4722-890d-3e2486c5d9e7",
     "showTitle": false,
     "tableResultSettingsMap": {},
     "title": ""
    }
   },
   "outputs": [],
   "source": [
    "%sql\n",
    "-- COMMAND ----------\n",
    "-- Assuming 'silver.icd_codes' table has the following structure:\n",
    "-- (\n",
    "--   icd_code STRING,\n",
    "--   icd_code_type STRING,\n",
    "--   code_description STRING,\n",
    "--   inserted_date TIMESTAMP, -- Or DATE, depending on your precision needs\n",
    "--   updated_date TIMESTAMP,  -- This will act as the effective_end_date for expired records\n",
    "--   is_current_flag BOOLEAN\n",
    "-- )\n",
    "\n",
    "MERGE INTO silver.icd_codes AS tgt\n",
    "USING staging_icd_codes AS src\n",
    "ON tgt.icd_code = src.icd_code AND tgt.is_current_flag = TRUE\n",
    "WHEN MATCHED\n",
    "  AND (\n",
    "    -- Define which column changes trigger a new SCD Type 2 version\n",
    "    tgt.icd_code_type     <> src.icd_code_type OR\n",
    "    tgt.code_description  <> src.code_description\n",
    "    -- Add OR conditions for any other columns that should trigger a new historical record\n",
    "  )\n",
    "THEN UPDATE SET\n",
    "  tgt.is_current_flag = FALSE,         -- Mark the old version as no longer current\n",
    "  tgt.updated_date = current_timestamp() -- Record the time the old version was \"closed\"\n",
    "\n",
    "WHEN NOT MATCHED THEN INSERT (\n",
    "    icd_code,\n",
    "    icd_code_type,\n",
    "    code_description,\n",
    "    inserted_date,\n",
    "    updated_date,\n",
    "    is_current_flag\n",
    ")\n",
    "VALUES (\n",
    "    src.icd_code,\n",
    "    src.icd_code_type,\n",
    "    src.code_description,\n",
    "    current_timestamp(), -- Set inserted_date for the new version\n",
    "    current_timestamp(), -- Set updated_date for the new version (initially same as inserted_date)\n",
    "    TRUE                 -- Mark this new record/version as current\n",
    ");"
   ]
  }
 ],
 "metadata": {
  "application/vnd.databricks.v1+notebook": {
   "computePreferences": null,
   "dashboards": [],
   "environmentMetadata": {
    "base_environment": "",
    "environment_version": "2"
   },
   "inputWidgetPreferences": null,
   "language": "python",
   "notebookMetadata": {
    "mostRecentlyExecutedCommandWithImplicitDF": {
     "commandId": 8532727726483766,
     "dataframes": [
      "_sqldf"
     ]
    },
    "pythonIndentUnit": 4
   },
   "notebookName": "ICD_Codes",
   "widgets": {}
  },
  "language_info": {
   "name": "python"
  }
 },
 "nbformat": 4,
 "nbformat_minor": 0
}
