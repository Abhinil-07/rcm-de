{
 "cells": [
  {
   "cell_type": "code",
   "execution_count": 0,
   "metadata": {
    "application/vnd.databricks.v1+cell": {
     "cellMetadata": {
      "byteLimit": 2048000,
      "rowLimit": 10000
     },
     "inputWidgets": {},
     "nuid": "470a14d6-8b5a-4c62-9be4-365535e28c8e",
     "showTitle": false,
     "tableResultSettingsMap": {},
     "title": ""
    }
   },
   "outputs": [],
   "source": [
    "from pyspark.sql import SparkSession, functions as f"
   ]
  },
  {
   "cell_type": "code",
   "execution_count": 0,
   "metadata": {
    "application/vnd.databricks.v1+cell": {
     "cellMetadata": {
      "byteLimit": 2048000,
      "rowLimit": 10000
     },
     "inputWidgets": {},
     "nuid": "c1fa0de2-0ab1-4432-b385-8752fa78364f",
     "showTitle": false,
     "tableResultSettingsMap": {},
     "title": ""
    }
   },
   "outputs": [],
   "source": [
    "hosa_encounters_path = \"/mnt/rcmabhi/bronze/hosa/transactions\"\n",
    "df_hosa = spark.read.parquet(hosa_encounters_path)"
   ]
  },
  {
   "cell_type": "code",
   "execution_count": 0,
   "metadata": {
    "application/vnd.databricks.v1+cell": {
     "cellMetadata": {
      "byteLimit": 2048000,
      "rowLimit": 10000
     },
     "inputWidgets": {},
     "nuid": "561c594c-bfe0-4d28-9b7d-35720d13112b",
     "showTitle": false,
     "tableResultSettingsMap": {},
     "title": ""
    }
   },
   "outputs": [],
   "source": [
    "hosb_encounters_path = \"/mnt/rcmabhi/bronze/hosb/transactions\"\n",
    "df_hosb = spark.read.parquet(hosa_encounters_path)"
   ]
  },
  {
   "cell_type": "code",
   "execution_count": 0,
   "metadata": {
    "application/vnd.databricks.v1+cell": {
     "cellMetadata": {
      "byteLimit": 2048000,
      "rowLimit": 10000
     },
     "inputWidgets": {},
     "nuid": "df0fd6b5-c395-4b80-855a-718d4adfb3c6",
     "showTitle": false,
     "tableResultSettingsMap": {},
     "title": ""
    }
   },
   "outputs": [],
   "source": [
    "df_merged = df_hosa.unionByName(df_hosb)\n",
    "display(df_merged)"
   ]
  },
  {
   "cell_type": "code",
   "execution_count": 0,
   "metadata": {
    "application/vnd.databricks.v1+cell": {
     "cellMetadata": {
      "byteLimit": 2048000,
      "rowLimit": 10000
     },
     "inputWidgets": {},
     "nuid": "818b0db4-45a1-40a4-adf5-3bcf9d146b1f",
     "showTitle": false,
     "tableResultSettingsMap": {},
     "title": ""
    }
   },
   "outputs": [],
   "source": [
    "df_merged.createOrReplaceTempView(\"transactions\")"
   ]
  },
  {
   "cell_type": "code",
   "execution_count": 0,
   "metadata": {
    "application/vnd.databricks.v1+cell": {
     "cellMetadata": {
      "byteLimit": 2048000,
      "implicitDf": true,
      "rowLimit": 10000
     },
     "inputWidgets": {},
     "nuid": "42f6aae7-5276-4457-88c6-d359aceac6a0",
     "showTitle": false,
     "tableResultSettingsMap": {},
     "title": ""
    }
   },
   "outputs": [],
   "source": [
    "%sql\n",
    "CREATE OR REPLACE TEMP VIEW quality_checks AS\n",
    "SELECT \n",
    "    CONCAT(TransactionID, '-', datasource) AS TransactionID,\n",
    "    TransactionID AS SRC_TransactionID,\n",
    "    EncounterID,\n",
    "    PatientID,\n",
    "    ProviderID,\n",
    "    DeptID,\n",
    "    VisitDate,\n",
    "    ServiceDate,\n",
    "    PaidDate,\n",
    "    VisitType,\n",
    "    Amount,\n",
    "    AmountType,\n",
    "    PaidAmount,\n",
    "    ClaimID,\n",
    "    PayorID,\n",
    "    ProcedureCode,\n",
    "    ICDCode,\n",
    "    LineOfBusiness,\n",
    "    MedicaidID,\n",
    "    MedicareID,\n",
    "    InsertDate AS SRC_InsertDate,\n",
    "    ModifiedDate AS SRC_ModifiedDate,\n",
    "    datasource,\n",
    "    CASE \n",
    "        WHEN EncounterID IS NULL \n",
    "          OR PatientID IS NULL \n",
    "          OR TransactionID IS NULL \n",
    "          OR VisitDate IS NULL \n",
    "        THEN TRUE\n",
    "        ELSE FALSE\n",
    "    END AS is_quarantined\n",
    "FROM transactions;\n"
   ]
  },
  {
   "cell_type": "code",
   "execution_count": 0,
   "metadata": {
    "application/vnd.databricks.v1+cell": {
     "cellMetadata": {
      "byteLimit": 2048000,
      "implicitDf": true,
      "rowLimit": 10000
     },
     "inputWidgets": {},
     "nuid": "094754a8-9a15-49ab-8343-c1f399116f5c",
     "showTitle": false,
     "tableResultSettingsMap": {},
     "title": ""
    }
   },
   "outputs": [],
   "source": [
    "%sql\n",
    "CREATE TABLE IF NOT EXISTS silver.transactions (\n",
    "  TransactionID STRING,\n",
    "  SRC_TransactionID STRING,\n",
    "  EncounterID STRING,\n",
    "  PatientID STRING,\n",
    "  ProviderID STRING,\n",
    "  DeptID STRING,\n",
    "  VisitDate DATE,\n",
    "  ServiceDate DATE,\n",
    "  PaidDate DATE,\n",
    "  VisitType STRING,\n",
    "  Amount DOUBLE,\n",
    "  AmountType STRING,\n",
    "  PaidAmount DOUBLE,\n",
    "  ClaimID STRING,\n",
    "  PayorID STRING,\n",
    "  ProcedureCode INT,\n",
    "  ICDCode STRING,\n",
    "  LineOfBusiness STRING,\n",
    "  MedicaidID STRING,\n",
    "  MedicareID STRING,\n",
    "  SRC_InsertDate DATE,\n",
    "  SRC_ModifiedDate DATE,\n",
    "  datasource STRING,\n",
    "  is_quarantined BOOLEAN,\n",
    "  audit_insertdate TIMESTAMP,\n",
    "  audit_modifieddate TIMESTAMP,\n",
    "  is_current BOOLEAN\n",
    ")\n",
    "USING DELTA;\n"
   ]
  },
  {
   "cell_type": "code",
   "execution_count": 0,
   "metadata": {
    "application/vnd.databricks.v1+cell": {
     "cellMetadata": {
      "byteLimit": 2048000,
      "implicitDf": true,
      "rowLimit": 10000
     },
     "inputWidgets": {},
     "nuid": "b118c458-20b9-4e6a-a3f8-d371104d74de",
     "showTitle": false,
     "tableResultSettingsMap": {},
     "title": ""
    }
   },
   "outputs": [],
   "source": [
    "%sql\n",
    "MERGE INTO silver.transactions AS tgt\n",
    "USING quality_checks AS src\n",
    "ON tgt.TransactionID = src.TransactionID\n",
    "AND tgt.is_current = true\n",
    "\n",
    "WHEN MATCHED\n",
    "AND (\n",
    "  tgt.SRC_TransactionID <> src.SRC_TransactionID\n",
    "  OR tgt.EncounterID <> src.EncounterID\n",
    "  OR tgt.PatientID <> src.PatientID\n",
    "  OR tgt.ProviderID <> src.ProviderID\n",
    "  OR tgt.DeptID <> src.DeptID\n",
    "  OR tgt.VisitDate <> src.VisitDate\n",
    "  OR tgt.ServiceDate <> src.ServiceDate\n",
    "  OR tgt.PaidDate <> src.PaidDate\n",
    "  OR tgt.VisitType <> src.VisitType\n",
    "  OR tgt.Amount <> src.Amount\n",
    "  OR tgt.AmountType <> src.AmountType\n",
    "  OR tgt.PaidAmount <> src.PaidAmount\n",
    "  OR tgt.ClaimID <> src.ClaimID\n",
    "  OR tgt.PayorID <> src.PayorID\n",
    "  OR tgt.ProcedureCode <> src.ProcedureCode\n",
    "  OR tgt.ICDCode <> src.ICDCode\n",
    "  OR tgt.LineOfBusiness <> src.LineOfBusiness\n",
    "  OR tgt.MedicaidID <> src.MedicaidID\n",
    "  OR tgt.MedicareID <> src.MedicareID\n",
    "  OR tgt.SRC_InsertDate <> src.SRC_InsertDate\n",
    "  OR tgt.SRC_ModifiedDate <> src.SRC_ModifiedDate\n",
    "  OR tgt.datasource <> src.datasource\n",
    "  OR tgt.is_quarantined <> src.is_quarantined\n",
    ")\n",
    "THEN UPDATE SET\n",
    "  tgt.is_current = false,\n",
    "  tgt.audit_modifieddate = current_timestamp();\n"
   ]
  },
  {
   "cell_type": "code",
   "execution_count": 0,
   "metadata": {
    "application/vnd.databricks.v1+cell": {
     "cellMetadata": {
      "byteLimit": 2048000,
      "implicitDf": true,
      "rowLimit": 10000
     },
     "inputWidgets": {},
     "nuid": "cde325a5-a3f6-43be-b615-8d9ba8feb843",
     "showTitle": false,
     "tableResultSettingsMap": {},
     "title": ""
    }
   },
   "outputs": [],
   "source": [
    "%sql\n",
    "MERGE INTO silver.transactions AS tgt\n",
    "USING quality_checks AS src\n",
    "ON  tgt.TransactionID = src.TransactionID\n",
    "AND tgt.is_current      = true\n",
    "\n",
    "WHEN NOT MATCHED THEN\n",
    "INSERT (\n",
    "    TransactionID,\n",
    "    SRC_TransactionID,\n",
    "    EncounterID,\n",
    "    PatientID,\n",
    "    ProviderID,\n",
    "    DeptID,\n",
    "    VisitDate,\n",
    "    ServiceDate,\n",
    "    PaidDate,\n",
    "    VisitType,\n",
    "    Amount,\n",
    "    AmountType,\n",
    "    PaidAmount,\n",
    "    ClaimID,\n",
    "    PayorID,\n",
    "    ProcedureCode,\n",
    "    ICDCode,\n",
    "    LineOfBusiness,\n",
    "    MedicaidID,\n",
    "    MedicareID,\n",
    "    SRC_InsertDate,\n",
    "    SRC_ModifiedDate,\n",
    "    datasource,\n",
    "    is_quarantined,\n",
    "    audit_insertdate,\n",
    "    audit_modifieddate,\n",
    "    is_current\n",
    ")\n",
    "VALUES (\n",
    "    src.TransactionID,\n",
    "    src.SRC_TransactionID,\n",
    "    src.EncounterID,\n",
    "    src.PatientID,\n",
    "    src.ProviderID,\n",
    "    src.DeptID,\n",
    "    src.VisitDate,\n",
    "    src.ServiceDate,\n",
    "    src.PaidDate,\n",
    "    src.VisitType,\n",
    "    src.Amount,\n",
    "    src.AmountType,\n",
    "    src.PaidAmount,\n",
    "    src.ClaimID,\n",
    "    src.PayorID,\n",
    "    src.ProcedureCode,\n",
    "    src.ICDCode,\n",
    "    src.LineOfBusiness,\n",
    "    src.MedicaidID,\n",
    "    src.MedicareID,\n",
    "    src.SRC_InsertDate,\n",
    "    src.SRC_ModifiedDate,\n",
    "    src.datasource,\n",
    "    src.is_quarantined,\n",
    "    current_timestamp(),       -- audit_insertdate\n",
    "    current_timestamp(),       -- audit_modifieddate\n",
    "    true                       -- is_current\n",
    ");\n"
   ]
  }
 ],
 "metadata": {
  "application/vnd.databricks.v1+notebook": {
   "computePreferences": null,
   "dashboards": [],
   "environmentMetadata": {
    "base_environment": "",
    "environment_version": "2"
   },
   "inputWidgetPreferences": null,
   "language": "python",
   "notebookMetadata": {
    "mostRecentlyExecutedCommandWithImplicitDF": {
     "commandId": 6960380036548038,
     "dataframes": [
      "_sqldf"
     ]
    },
    "pythonIndentUnit": 4
   },
   "notebookName": "Transactions",
   "widgets": {}
  },
  "language_info": {
   "name": "python"
  }
 },
 "nbformat": 4,
 "nbformat_minor": 0
}
