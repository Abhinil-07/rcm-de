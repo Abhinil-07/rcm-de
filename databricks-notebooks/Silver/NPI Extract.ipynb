{
 "cells": [
  {
   "cell_type": "code",
   "execution_count": 0,
   "metadata": {
    "application/vnd.databricks.v1+cell": {
     "cellMetadata": {
      "byteLimit": 2048000,
      "rowLimit": 10000
     },
     "inputWidgets": {},
     "nuid": "9dc33b7d-042d-4ba9-bc8b-79282e4e1a16",
     "showTitle": false,
     "tableResultSettingsMap": {},
     "title": ""
    }
   },
   "outputs": [],
   "source": [
    "df=spark.read.parquet(\"/mnt/rcmabhi/bronze/npi_extract\")\n",
    "df.createOrReplaceTempView('npi_extract')"
   ]
  },
  {
   "cell_type": "code",
   "execution_count": 0,
   "metadata": {
    "application/vnd.databricks.v1+cell": {
     "cellMetadata": {
      "byteLimit": 2048000,
      "implicitDf": true,
      "rowLimit": 10000
     },
     "inputWidgets": {},
     "nuid": "e476c8c7-1b96-4dc9-8d2d-a16ee2954939",
     "showTitle": false,
     "tableResultSettingsMap": {},
     "title": ""
    }
   },
   "outputs": [],
   "source": [
    "%sql\n",
    "CREATE TABLE IF NOT EXISTS silver.npi_extract (\n",
    "  npi_id STRING,\n",
    "  first_name STRING,\n",
    "  last_name STRING,\n",
    "  position STRING,\n",
    "  organisation_name STRING,\n",
    "  last_updated STRING,\n",
    "  inserted_date DATE,\n",
    "  updated_date DATE,\n",
    "  is_current_flag BOOLEAN\n",
    ")"
   ]
  },
  {
   "cell_type": "code",
   "execution_count": 0,
   "metadata": {
    "application/vnd.databricks.v1+cell": {
     "cellMetadata": {
      "byteLimit": 2048000,
      "implicitDf": true,
      "rowLimit": 10000
     },
     "inputWidgets": {},
     "nuid": "c25ecf66-ddf9-432e-8c1c-71c8de6cf9e7",
     "showTitle": false,
     "tableResultSettingsMap": {},
     "title": ""
    }
   },
   "outputs": [],
   "source": [
    "%sql\n",
    "-- COMMAND ----------\n",
    "MERGE INTO silver.npi_extract AS tgt\n",
    "USING npi_extract AS src -- Assuming 'npi_extract' is your staging table with new/updated data\n",
    "ON tgt.npi_id = src.npi_id AND tgt.is_current_flag = TRUE\n",
    "WHEN MATCHED\n",
    "  AND (\n",
    "    -- Use COALESCE for null-safe comparison if any of these columns can be null\n",
    "    COALESCE(tgt.first_name, '')        <> COALESCE(src.first_name, '') OR\n",
    "    COALESCE(tgt.last_name, '')         <> COALESCE(src.last_name, '') OR\n",
    "    COALESCE(tgt.position, '')          <> COALESCE(src.position, '') OR\n",
    "    COALESCE(tgt.organisation_name, '') <> COALESCE(src.organisation_name, '') OR\n",
    "    COALESCE(tgt.last_updated, '1900-01-01') <> COALESCE(src.last_updated, '1900-01-01') -- Use a default date for comparison if NULLs are possible\n",
    "  )\n",
    "THEN UPDATE SET\n",
    "  tgt.is_current_flag = FALSE,      -- Mark the old version as no longer current\n",
    "  tgt.updated_date = current_date() -- Record the date it became historical\n",
    "\n",
    "WHEN NOT MATCHED THEN INSERT (\n",
    "  npi_id,\n",
    "  first_name,\n",
    "  last_name,\n",
    "  position,\n",
    "  organisation_name,\n",
    "  last_updated,\n",
    "  inserted_date,\n",
    "  updated_date,\n",
    "  is_current_flag\n",
    ")\n",
    "VALUES (\n",
    "  src.npi_id,\n",
    "  src.first_name,\n",
    "  src.last_name,\n",
    "  src.position,\n",
    "  src.organisation_name,\n",
    "  src.last_updated,\n",
    "  current_date(),  -- Set inserted_date for the new version\n",
    "  current_date(),  -- Set updated_date for the new version (initially same as inserted_date)\n",
    "  TRUE             -- Mark this new record/version as current\n",
    ");"
   ]
  },
  {
   "cell_type": "code",
   "execution_count": 0,
   "metadata": {
    "application/vnd.databricks.v1+cell": {
     "cellMetadata": {},
     "inputWidgets": {},
     "nuid": "ecee4491-1945-4cbd-b1d3-951764b502c4",
     "showTitle": false,
     "tableResultSettingsMap": {},
     "title": ""
    }
   },
   "outputs": [],
   "source": []
  }
 ],
 "metadata": {
  "application/vnd.databricks.v1+notebook": {
   "computePreferences": null,
   "dashboards": [],
   "environmentMetadata": {
    "base_environment": "",
    "environment_version": "2"
   },
   "inputWidgetPreferences": null,
   "language": "python",
   "notebookMetadata": {
    "mostRecentlyExecutedCommandWithImplicitDF": {
     "commandId": 8532727726483772,
     "dataframes": [
      "_sqldf"
     ]
    },
    "pythonIndentUnit": 4
   },
   "notebookName": "NPI Extract",
   "widgets": {}
  },
  "language_info": {
   "name": "python"
  }
 },
 "nbformat": 4,
 "nbformat_minor": 0
}
