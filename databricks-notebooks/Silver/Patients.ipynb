{
 "cells": [
  {
   "cell_type": "code",
   "execution_count": 0,
   "metadata": {
    "application/vnd.databricks.v1+cell": {
     "cellMetadata": {
      "byteLimit": 2048000,
      "rowLimit": 10000
     },
     "inputWidgets": {},
     "nuid": "d3e8cf71-e51d-42a9-b532-1221ed3a2da3",
     "showTitle": false,
     "tableResultSettingsMap": {},
     "title": ""
    }
   },
   "outputs": [],
   "source": [
    "hosa_patients_path = \"/mnt/rcm/bronze/hosa/patients\"\n",
    "hosb_patients_path = \"/mnt/rcm/bronze/hosb/patients\"\n",
    "\n",
    "print(f\"Reading Hospital A patients from: {hosa_patients_path}\")\n",
    "print(f\"Reading Hospital B patients from: {hosb_patients_path}\")\n",
    "\n",
    "# Reading Hospital A patient data and creating a temporary view\n",
    "df_hosa = spark.read.parquet(hosa_patients_path)\n",
    "df_hosa.createOrReplaceTempView(\"patients_hosa_bronze\") # Renamed for clarity\n",
    "\n",
    "# Reading Hospital B patient data and creating a temporary view\n",
    "df_hosb = spark.read.parquet(hosb_patients_path)\n",
    "df_hosb.createOrReplaceTempView(\"patients_hosb_bronze\") # Renamed for clarity\n",
    "\n",
    "print(\"Bronze layer patient data loaded into temporary views: patients_hosa_bronze, patients_hosb_bronze\")"
   ]
  },
  {
   "cell_type": "code",
   "execution_count": 0,
   "metadata": {
    "application/vnd.databricks.v1+cell": {
     "cellMetadata": {
      "byteLimit": 2048000,
      "implicitDf": true,
      "rowLimit": 10000
     },
     "inputWidgets": {},
     "nuid": "7e50d1e7-d46e-461f-8034-2a33f4f4e76c",
     "showTitle": false,
     "tableResultSettingsMap": {},
     "title": ""
    }
   },
   "outputs": [],
   "source": [
    "%sql\n",
    "SELECT * FROM patients_hosa_bronze LIMIT 10"
   ]
  },
  {
   "cell_type": "code",
   "execution_count": 0,
   "metadata": {
    "application/vnd.databricks.v1+cell": {
     "cellMetadata": {
      "byteLimit": 2048000,
      "implicitDf": true,
      "rowLimit": 10000
     },
     "inputWidgets": {},
     "nuid": "b9e55908-5642-40ea-b4df-71a2aed1944e",
     "showTitle": false,
     "tableResultSettingsMap": {},
     "title": ""
    }
   },
   "outputs": [],
   "source": [
    "%sql\n",
    "SELECT * FROM patients_hosb_bronze LIMIT 10"
   ]
  },
  {
   "cell_type": "code",
   "execution_count": 0,
   "metadata": {
    "application/vnd.databricks.v1+cell": {
     "cellMetadata": {
      "byteLimit": 2048000,
      "implicitDf": true,
      "rowLimit": 10000
     },
     "inputWidgets": {},
     "nuid": "2a6c13d2-364f-463a-8c86-36e32e203318",
     "showTitle": false,
     "tableResultSettingsMap": {},
     "title": ""
    }
   },
   "outputs": [],
   "source": [
    "%sql\n",
    "CREATE OR REPLACE TEMP VIEW cdm_patients AS\n",
    "SELECT CONCAT(SRC_PatientID, '-', datasource) AS Patient_Key, *\n",
    "FROM (\n",
    "    -- Data from Hospital A (patients_hosa_bronze)\n",
    "    SELECT\n",
    "        PatientID AS SRC_PatientID,\n",
    "        FirstName,\n",
    "        LastName,\n",
    "        MiddleName,\n",
    "        SSN,\n",
    "        PhoneNumber,\n",
    "        Gender,\n",
    "        DOB,\n",
    "        Address,\n",
    "        ModifiedDate,\n",
    "        'hosa' AS datasource -- Explicitly setting datasource for Hospital A\n",
    "    FROM patients_hosa_bronze\n",
    "\n",
    "    UNION ALL\n",
    "\n",
    "    -- Data from Hospital B (patients_hosb_bronze)\n",
    "    SELECT\n",
    "        ID AS SRC_PatientID,\n",
    "        F_Name AS FirstName,\n",
    "        L_Name AS LastName,\n",
    "        M_Name AS MiddleName,\n",
    "        SSN,\n",
    "        PhoneNumber,\n",
    "        Gender,\n",
    "        DOB,\n",
    "        Address,\n",
    "        Updated_Date AS ModifiedDate,\n",
    "        'hosb' AS datasource -- Explicitly setting datasource for Hospital B\n",
    "    FROM patients_hosb_bronze\n",
    ");"
   ]
  },
  {
   "cell_type": "code",
   "execution_count": 0,
   "metadata": {
    "application/vnd.databricks.v1+cell": {
     "cellMetadata": {
      "byteLimit": 2048000,
      "implicitDf": true,
      "rowLimit": 10000
     },
     "inputWidgets": {},
     "nuid": "13fee739-b020-4240-aee5-0aa7c470ad60",
     "showTitle": false,
     "tableResultSettingsMap": {},
     "title": ""
    }
   },
   "outputs": [],
   "source": [
    "%sql\n",
    "SELECT * FROM cdm_patients LIMIT 20"
   ]
  },
  {
   "cell_type": "code",
   "execution_count": 0,
   "metadata": {
    "application/vnd.databricks.v1+cell": {
     "cellMetadata": {
      "byteLimit": 2048000,
      "implicitDf": true,
      "rowLimit": 10000
     },
     "inputWidgets": {},
     "nuid": "0eb0b596-8ae3-49cd-815b-30803170903f",
     "showTitle": false,
     "tableResultSettingsMap": {},
     "title": ""
    }
   },
   "outputs": [],
   "source": [
    "%sql\n",
    "CREATE OR REPLACE TEMP VIEW quality_checks AS\n",
    "SELECT\n",
    "    Patient_Key,\n",
    "    SRC_PatientID,\n",
    "    FirstName,\n",
    "    LastName,\n",
    "    MiddleName,\n",
    "    SSN,\n",
    "    PhoneNumber,\n",
    "    Gender,\n",
    "    DOB,\n",
    "    Address,\n",
    "    ModifiedDate AS SRC_ModifiedDate, -- Renamed for clarity to indicate source modification date\n",
    "    datasource,\n",
    "    CASE\n",
    "        WHEN SRC_PatientID IS NULL OR dob IS NULL OR firstname IS NULL OR lower(firstname) = 'null' THEN TRUE\n",
    "        ELSE FALSE\n",
    "    END AS is_quarantined\n",
    "FROM cdm_patients;\n"
   ]
  },
  {
   "cell_type": "code",
   "execution_count": 0,
   "metadata": {
    "application/vnd.databricks.v1+cell": {
     "cellMetadata": {
      "byteLimit": 2048000,
      "implicitDf": true,
      "rowLimit": 10000
     },
     "inputWidgets": {},
     "nuid": "39319a6c-9c80-4d7d-afd4-605849cbd7bc",
     "showTitle": false,
     "tableResultSettingsMap": {},
     "title": ""
    }
   },
   "outputs": [],
   "source": [
    "%sql\n",
    "SELECT * FROM quality_checks\n",
    "ORDER BY is_quarantined DESC\n",
    "LIMIT 20"
   ]
  },
  {
   "cell_type": "code",
   "execution_count": 0,
   "metadata": {
    "application/vnd.databricks.v1+cell": {
     "cellMetadata": {
      "byteLimit": 2048000,
      "implicitDf": true,
      "rowLimit": 10000
     },
     "inputWidgets": {},
     "nuid": "a607ecb0-8832-4e9d-a8ff-59c85fdc5d4e",
     "showTitle": false,
     "tableResultSettingsMap": {},
     "title": ""
    }
   },
   "outputs": [],
   "source": [
    "%sql\n",
    "CREATE TABLE IF NOT EXISTS silver.patients (\n",
    "    Patient_Key STRING,        -- Unique identifier for a patient across all sources\n",
    "    SRC_PatientID STRING,      -- Original patient ID from the source system\n",
    "    FirstName STRING,\n",
    "    LastName STRING,\n",
    "    MiddleName STRING,\n",
    "    SSN STRING,\n",
    "    PhoneNumber STRING,\n",
    "    Gender STRING,\n",
    "    DOB DATE,\n",
    "    Address STRING,\n",
    "    SRC_ModifiedDate TIMESTAMP, -- Last modification date from the source system\n",
    "    datasource STRING,          -- Source system identifier (e.g., 'hosa', 'hosb')\n",
    "    is_quarantined BOOLEAN,     -- Flag from data quality checks\n",
    "    inserted_date TIMESTAMP,    -- Timestamp when this specific record version was inserted into Silver\n",
    "    modified_date TIMESTAMP,    -- Timestamp when this specific record version was last modified/deactivated\n",
    "    is_current BOOLEAN          -- Flag indicating if this is the currently active version (TRUE) or historical (FALSE)\n",
    ")\n",
    "USING DELTA;"
   ]
  },
  {
   "cell_type": "code",
   "execution_count": 0,
   "metadata": {
    "application/vnd.databricks.v1+cell": {
     "cellMetadata": {
      "byteLimit": 2048000,
      "implicitDf": true,
      "rowLimit": 10000
     },
     "inputWidgets": {},
     "nuid": "190ded5a-8ca1-4214-98c7-4397515ca97b",
     "showTitle": false,
     "tableResultSettingsMap": {},
     "title": ""
    }
   },
   "outputs": [],
   "source": [
    "%sql\n",
    "DESCRIBE DETAIL silver.patients;"
   ]
  },
  {
   "cell_type": "code",
   "execution_count": 0,
   "metadata": {
    "application/vnd.databricks.v1+cell": {
     "cellMetadata": {
      "byteLimit": 2048000,
      "implicitDf": true,
      "rowLimit": 10000
     },
     "inputWidgets": {},
     "nuid": "e7cb8377-9fb0-4662-a0e6-27c531993381",
     "showTitle": false,
     "tableResultSettingsMap": {},
     "title": ""
    }
   },
   "outputs": [],
   "source": [
    "%sql\n",
    "MERGE INTO silver.patients AS tgt\n",
    "USING quality_checks AS src\n",
    "ON tgt.Patient_Key = src.Patient_Key AND tgt.is_current = true\n",
    "WHEN MATCHED\n",
    "AND (\n",
    "    -- Check for any column changes (excluding inserted_date, modified_date, is_current)\n",
    "    -- If any of these columns are different, it means the record has been updated in the source.\n",
    "    tgt.SRC_PatientID      <> src.SRC_PatientID OR\n",
    "    tgt.FirstName          <> src.FirstName OR\n",
    "    tgt.LastName           <> src.LastName OR\n",
    "    tgt.MiddleName         <> src.MiddleName OR\n",
    "    tgt.SSN                <> src.SSN OR\n",
    "    tgt.PhoneNumber        <> src.PhoneNumber OR\n",
    "    tgt.Gender             <> src.Gender OR\n",
    "    tgt.DOB                <> src.DOB OR\n",
    "    tgt.Address            <> src.Address OR\n",
    "    tgt.SRC_ModifiedDate   <> src.SRC_ModifiedDate OR\n",
    "    tgt.datasource         <> src.datasource OR\n",
    "    tgt.is_quarantined     <> src.is_quarantined\n",
    ")\n",
    "THEN UPDATE SET\n",
    "    tgt.is_current = false,       -- Mark the old version as no longer current\n",
    "    tgt.modified_date = current_timestamp() -- Record the time it became historical\n",
    ";\n"
   ]
  },
  {
   "cell_type": "code",
   "execution_count": 0,
   "metadata": {
    "application/vnd.databricks.v1+cell": {
     "cellMetadata": {
      "byteLimit": 2048000,
      "implicitDf": true,
      "rowLimit": 10000
     },
     "inputWidgets": {},
     "nuid": "cc53b71b-edc5-433d-838e-8b4ad94d2304",
     "showTitle": false,
     "tableResultSettingsMap": {},
     "title": ""
    }
   },
   "outputs": [],
   "source": [
    "%sql\n",
    "MERGE INTO silver.patients AS tgt\n",
    "USING quality_checks AS src\n",
    "ON tgt.Patient_Key = src.Patient_Key AND tgt.is_current = true\n",
    "WHEN NOT MATCHED\n",
    "THEN INSERT (\n",
    "    Patient_Key,\n",
    "    SRC_PatientID,\n",
    "    FirstName,\n",
    "    LastName,\n",
    "    MiddleName,\n",
    "    SSN,\n",
    "    PhoneNumber,\n",
    "    Gender,\n",
    "    DOB,\n",
    "    Address,\n",
    "    SRC_ModifiedDate,\n",
    "    datasource,\n",
    "    is_quarantined,\n",
    "    inserted_date,\n",
    "    modified_date,\n",
    "    is_current\n",
    ")\n",
    "VALUES (\n",
    "    src.Patient_Key,\n",
    "    src.SRC_PatientID,\n",
    "    src.FirstName,\n",
    "    src.LastName,\n",
    "    src.MiddleName,\n",
    "    src.SSN,\n",
    "    src.PhoneNumber,\n",
    "    src.Gender,\n",
    "    src.DOB,\n",
    "    src.Address,\n",
    "    src.SRC_ModifiedDate,\n",
    "    src.datasource,\n",
    "    src.is_quarantined,\n",
    "    current_timestamp(), -- Set inserted_date to current timestamp for this version\n",
    "    current_timestamp(), -- Set modified_date to current timestamp for this version\n",
    "    true                 -- Mark this new record/version as current\n",
    ");\n"
   ]
  },
  {
   "cell_type": "code",
   "execution_count": 0,
   "metadata": {
    "application/vnd.databricks.v1+cell": {
     "cellMetadata": {
      "byteLimit": 2048000,
      "implicitDf": true,
      "rowLimit": 10000
     },
     "inputWidgets": {},
     "nuid": "ece2c0b9-35c4-43e3-8e48-94b801de8206",
     "showTitle": false,
     "tableResultSettingsMap": {},
     "title": ""
    }
   },
   "outputs": [],
   "source": [
    "%sql\n",
    "SELECT\n",
    "    COUNT(*) AS version_count,\n",
    "    Patient_Key\n",
    "FROM silver.patients\n",
    "GROUP BY Patient_Key\n",
    "ORDER BY version_count DESC;"
   ]
  },
  {
   "cell_type": "code",
   "execution_count": 0,
   "metadata": {
    "application/vnd.databricks.v1+cell": {
     "cellMetadata": {},
     "inputWidgets": {},
     "nuid": "2f8ea3cc-f4ad-448e-818b-d97e9f55a45e",
     "showTitle": false,
     "tableResultSettingsMap": {},
     "title": ""
    }
   },
   "outputs": [],
   "source": []
  }
 ],
 "metadata": {
  "application/vnd.databricks.v1+notebook": {
   "computePreferences": null,
   "dashboards": [],
   "environmentMetadata": {
    "base_environment": "",
    "environment_version": "2"
   },
   "inputWidgetPreferences": null,
   "language": "python",
   "notebookMetadata": {
    "mostRecentlyExecutedCommandWithImplicitDF": {
     "commandId": 7338163434736032,
     "dataframes": [
      "_sqldf"
     ]
    },
    "pythonIndentUnit": 4
   },
   "notebookName": "Patients",
   "widgets": {}
  },
  "language_info": {
   "name": "python"
  }
 },
 "nbformat": 4,
 "nbformat_minor": 0
}
