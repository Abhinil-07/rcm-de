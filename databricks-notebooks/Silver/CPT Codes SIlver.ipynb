{
 "cells": [
  {
   "cell_type": "code",
   "execution_count": 0,
   "metadata": {
    "application/vnd.databricks.v1+cell": {
     "cellMetadata": {
      "byteLimit": 2048000,
      "rowLimit": 10000
     },
     "inputWidgets": {},
     "nuid": "28af8cdd-5440-44e3-bcd7-723f69cc007d",
     "showTitle": false,
     "tableResultSettingsMap": {},
     "title": ""
    }
   },
   "outputs": [],
   "source": [
    "# Read the Parquet data from the bronze layer\n",
    "bronze_cpt_df = spark.read.format(\"parquet\").load(\"/mnt/rcmabhi/bronze/cpt_codes\")\n",
    "\n",
    "# Create a temporary view to query the data using SQL\n",
    "bronze_cpt_df.createOrReplaceTempView(\"bronze_cpt_codes\")"
   ]
  },
  {
   "cell_type": "code",
   "execution_count": 0,
   "metadata": {
    "application/vnd.databricks.v1+cell": {
     "cellMetadata": {
      "byteLimit": 2048000,
      "implicitDf": true,
      "rowLimit": 10000
     },
     "inputWidgets": {},
     "nuid": "3f3a9d27-b033-4538-8368-403840d27bf2",
     "showTitle": false,
     "tableResultSettingsMap": {},
     "title": ""
    }
   },
   "outputs": [],
   "source": [
    "%sql\n",
    "CREATE OR REPLACE TEMP VIEW quality_checks AS\n",
    "SELECT\n",
    "  cpt_codes,\n",
    "  procedure_code_category,\n",
    "  procedure_code_descriptions,\n",
    "  code_status,\n",
    "  CASE\n",
    "    WHEN cpt_codes IS NULL OR procedure_code_descriptions IS NULL THEN TRUE\n",
    "    ELSE FALSE\n",
    "  END AS is_quarantined\n",
    "FROM\n",
    "  bronze_cpt_codes"
   ]
  },
  {
   "cell_type": "code",
   "execution_count": 0,
   "metadata": {
    "application/vnd.databricks.v1+cell": {
     "cellMetadata": {
      "byteLimit": 2048000,
      "implicitDf": true,
      "rowLimit": 10000
     },
     "inputWidgets": {},
     "nuid": "81ea4c32-eaf1-4a0d-9113-cae62f8d2674",
     "showTitle": false,
     "tableResultSettingsMap": {},
     "title": ""
    }
   },
   "outputs": [],
   "source": [
    "%sql\n",
    "CREATE TABLE IF NOT EXISTS silver.cptcodes (\n",
    "  cpt_codes STRING,\n",
    "  procedure_code_category STRING,\n",
    "  procedure_code_descriptions STRING,\n",
    "  code_status STRING,\n",
    "  is_quarantined BOOLEAN,\n",
    "  audit_insertdate TIMESTAMP,\n",
    "  audit_modifieddate TIMESTAMP,\n",
    "  is_current BOOLEAN\n",
    ")\n",
    "USING DELTA;"
   ]
  },
  {
   "cell_type": "code",
   "execution_count": 0,
   "metadata": {
    "application/vnd.databricks.v1+cell": {
     "cellMetadata": {
      "byteLimit": 2048000,
      "implicitDf": true,
      "rowLimit": 10000
     },
     "inputWidgets": {},
     "nuid": "7113736f-e821-444e-a35b-3ccc7eee4a34",
     "showTitle": false,
     "tableResultSettingsMap": {},
     "title": ""
    }
   },
   "outputs": [],
   "source": [
    "%sql\n",
    "-- Find matching records that have changed and mark them as not current\n",
    "MERGE INTO silver.cptcodes AS target\n",
    "USING quality_checks AS source\n",
    "ON target.cpt_codes = source.cpt_codes AND target.is_current = true\n",
    "WHEN MATCHED AND (\n",
    "    target.procedure_code_category != source.procedure_code_category OR\n",
    "    target.procedure_code_descriptions != source.procedure_code_descriptions OR\n",
    "    target.code_status != source.code_status OR\n",
    "    target.is_quarantined != source.is_quarantined\n",
    ") THEN\n",
    "  UPDATE SET\n",
    "    target.is_current = false,\n",
    "    target.audit_modifieddate = current_timestamp()"
   ]
  },
  {
   "cell_type": "code",
   "execution_count": 0,
   "metadata": {
    "application/vnd.databricks.v1+cell": {
     "cellMetadata": {
      "byteLimit": 2048000,
      "implicitDf": true,
      "rowLimit": 10000
     },
     "inputWidgets": {},
     "nuid": "31078ef3-0991-48a3-bafb-a3a973ffc723",
     "showTitle": false,
     "tableResultSettingsMap": {},
     "title": ""
    }
   },
   "outputs": [],
   "source": [
    "%sql\n",
    "-- Insert new records and the updated versions of existing records\n",
    "INSERT INTO silver.cptcodes\n",
    "SELECT\n",
    "  source.cpt_codes,\n",
    "  source.procedure_code_category,\n",
    "  source.procedure_code_descriptions,\n",
    "  source.code_status,\n",
    "  source.is_quarantined,\n",
    "  current_timestamp() AS audit_insertdate,\n",
    "  current_timestamp() AS audit_modifieddate,\n",
    "  true AS is_current\n",
    "FROM quality_checks AS source\n",
    "LEFT JOIN silver.cptcodes AS target\n",
    "ON source.cpt_codes = target.cpt_codes AND target.is_current = true\n",
    "-- This condition ensures we only insert records that don't have a current version in the target\n",
    "WHERE target.cpt_codes IS NULL;"
   ]
  },
  {
   "cell_type": "code",
   "execution_count": 0,
   "metadata": {
    "application/vnd.databricks.v1+cell": {
     "cellMetadata": {},
     "inputWidgets": {},
     "nuid": "219c29a4-7e94-469c-9121-95f431778382",
     "showTitle": false,
     "tableResultSettingsMap": {},
     "title": ""
    }
   },
   "outputs": [],
   "source": []
  }
 ],
 "metadata": {
  "application/vnd.databricks.v1+notebook": {
   "computePreferences": null,
   "dashboards": [],
   "environmentMetadata": {
    "base_environment": "",
    "environment_version": "2"
   },
   "inputWidgetPreferences": null,
   "language": "python",
   "notebookMetadata": {
    "mostRecentlyExecutedCommandWithImplicitDF": {
     "commandId": 6960380036548051,
     "dataframes": [
      "_sqldf"
     ]
    },
    "pythonIndentUnit": 4
   },
   "notebookName": "CPT Codes SIlver",
   "widgets": {}
  },
  "language_info": {
   "name": "python"
  }
 },
 "nbformat": 4,
 "nbformat_minor": 0
}
