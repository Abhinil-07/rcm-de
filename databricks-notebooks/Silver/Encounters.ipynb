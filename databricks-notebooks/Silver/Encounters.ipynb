{
 "cells": [
  {
   "cell_type": "code",
   "execution_count": 0,
   "metadata": {
    "application/vnd.databricks.v1+cell": {
     "cellMetadata": {
      "byteLimit": 2048000,
      "rowLimit": 10000
     },
     "inputWidgets": {},
     "nuid": "9119575e-9da5-408a-ab3f-5c32a9bbc974",
     "showTitle": false,
     "tableResultSettingsMap": {},
     "title": ""
    }
   },
   "outputs": [],
   "source": [
    "# Databricks notebook source\n",
    "from pyspark.sql import SparkSession\n",
    "\n",
    "# Read the encounter data for both hospitals from the bronze layer\n",
    "hosa_encounters_df = spark.read.parquet(\"/mnt/rcmabhi/bronze/hosa/encounters\")\n",
    "hosb_encounters_df = spark.read.parquet(\"/mnt/rcmabhi/bronze/hosb/encounters\")\n",
    "\n",
    "# Union the two DataFrames into a single one. \n",
    "# unionByName is used as a best practice to avoid issues if column order differs.\n",
    "encounters_df = hosa_encounters_df.unionByName(hosb_encounters_df)\n",
    "\n",
    "# Create a temporary view so it can be used in the following SQL commands\n",
    "encounters_df.createOrReplaceTempView(\"encounters\")\n",
    "\n",
    "# Display the combined data to verify\n",
    "display(encounters_df)"
   ]
  },
  {
   "cell_type": "code",
   "execution_count": 0,
   "metadata": {
    "application/vnd.databricks.v1+cell": {
     "cellMetadata": {
      "byteLimit": 2048000,
      "implicitDf": true,
      "rowLimit": 10000
     },
     "inputWidgets": {},
     "nuid": "cd034a3f-0111-4963-b822-5debbbd8f2b0",
     "showTitle": false,
     "tableResultSettingsMap": {},
     "title": ""
    }
   },
   "outputs": [],
   "source": [
    "%sql\n",
    "CREATE OR REPLACE TEMP VIEW quality_checks AS\n",
    "SELECT \n",
    "  concat(EncounterID,'-',datasource) as EncounterID,\n",
    "  EncounterID as SRC_EncounterID,\n",
    "  PatientID,\n",
    "  cast(EncounterDate as date) as EncounterDate,\n",
    "  EncounterType,\n",
    "  ProviderID,\n",
    "  DepartmentID,\n",
    "  ProcedureCode,\n",
    "  cast(InsertedDate as date) as SRC_InsertedDate,\n",
    "  cast(ModifiedDate as date) as SRC_ModifiedDate,\n",
    "  datasource,\n",
    "  CASE \n",
    "    WHEN EncounterID IS NULL OR PatientID IS NULL THEN TRUE\n",
    "    ELSE FALSE\n",
    "  END AS is_quarantined\n",
    "FROM encounters"
   ]
  },
  {
   "cell_type": "code",
   "execution_count": 0,
   "metadata": {
    "application/vnd.databricks.v1+cell": {
     "cellMetadata": {
      "byteLimit": 2048000,
      "implicitDf": true,
      "rowLimit": 10000
     },
     "inputWidgets": {},
     "nuid": "b1586963-8f58-4c50-b913-5f14eeba0662",
     "showTitle": false,
     "tableResultSettingsMap": {},
     "title": ""
    }
   },
   "outputs": [],
   "source": [
    "%sql\n",
    "CREATE TABLE IF NOT EXISTS silver.encounters (\n",
    "  EncounterID string,\n",
    "  SRC_EncounterID string,\n",
    "  PatientID string,\n",
    "  EncounterDate date,\n",
    "  EncounterType string,\n",
    "  ProviderID string,\n",
    "  DepartmentID string,\n",
    "  ProcedureCode integer,\n",
    "  SRC_InsertedDate date,\n",
    "  SRC_ModifiedDate date,\n",
    "  datasource string,\n",
    "  is_quarantined boolean,\n",
    "  audit_insertdate timestamp,\n",
    "  audit_modifieddate timestamp,\n",
    "  is_current boolean\n",
    ")\n",
    "USING DELTA;"
   ]
  },
  {
   "cell_type": "code",
   "execution_count": 0,
   "metadata": {
    "application/vnd.databricks.v1+cell": {
     "cellMetadata": {
      "byteLimit": 2048000,
      "implicitDf": true,
      "rowLimit": 10000
     },
     "inputWidgets": {},
     "nuid": "d19e6d70-aa3f-4d54-9d97-a3047db89786",
     "showTitle": false,
     "tableResultSettingsMap": {},
     "title": ""
    }
   },
   "outputs": [],
   "source": [
    "%sql\n",
    "-- Update old record to implement SCD Type 2\n",
    "MERGE INTO silver.encounters AS target\n",
    "USING quality_checks AS source\n",
    "ON target.EncounterID = source.EncounterID AND target.is_current = true\n",
    "WHEN MATCHED AND (\n",
    "    target.SRC_EncounterID != source.SRC_EncounterID OR\n",
    "    target.PatientID != source.PatientID OR\n",
    "    target.EncounterDate != source.EncounterDate OR\n",
    "    target.EncounterType != source.EncounterType OR\n",
    "    target.ProviderID != source.ProviderID OR\n",
    "    target.DepartmentID != source.DepartmentID OR\n",
    "    target.ProcedureCode != source.ProcedureCode OR\n",
    "    target.SRC_InsertedDate != source.SRC_InsertedDate OR\n",
    "    target.SRC_ModifiedDate != source.SRC_ModifiedDate OR\n",
    "    target.datasource != source.datasource OR\n",
    "    target.is_quarantined != source.is_quarantined\n",
    ") THEN\n",
    "  UPDATE SET\n",
    "    target.is_current = false,\n",
    "    target.audit_modifieddate = current_timestamp()"
   ]
  },
  {
   "cell_type": "code",
   "execution_count": 0,
   "metadata": {
    "application/vnd.databricks.v1+cell": {
     "cellMetadata": {
      "byteLimit": 2048000,
      "implicitDf": true,
      "rowLimit": 10000
     },
     "inputWidgets": {},
     "nuid": "db9cb5b9-ecd0-4e16-96c9-49950351a5df",
     "showTitle": false,
     "tableResultSettingsMap": {},
     "title": ""
    }
   },
   "outputs": [],
   "source": [
    "%sql\n",
    "-- Insert new record to implement SCD Type 2\n",
    "MERGE INTO silver.encounters AS target \n",
    "USING quality_checks AS source \n",
    "ON target.EncounterID = source.EncounterID AND target.is_current = true\n",
    "WHEN NOT MATCHED THEN\n",
    "  INSERT\n",
    "    (\n",
    "      EncounterID,\n",
    "      SRC_EncounterID,\n",
    "      PatientID,\n",
    "      EncounterDate,\n",
    "      EncounterType,\n",
    "      ProviderID,\n",
    "      DepartmentID,\n",
    "      ProcedureCode,\n",
    "      SRC_InsertedDate,\n",
    "      SRC_ModifiedDate,\n",
    "      datasource,\n",
    "      is_quarantined,\n",
    "      audit_insertdate,\n",
    "      audit_modifieddate,\n",
    "      is_current\n",
    "    )\n",
    "  VALUES\n",
    "    (\n",
    "      source.EncounterID,\n",
    "      source.SRC_EncounterID,\n",
    "      source.PatientID,\n",
    "      source.EncounterDate,\n",
    "      source.EncounterType,\n",
    "      source.ProviderID,\n",
    "      source.DepartmentID,\n",
    "      source.ProcedureCode,\n",
    "      source.SRC_InsertedDate,\n",
    "      source.SRC_ModifiedDate,\n",
    "      source.datasource,\n",
    "      source.is_quarantined,\n",
    "      current_timestamp(),\n",
    "      current_timestamp(),\n",
    "      true\n",
    "    );"
   ]
  },
  {
   "cell_type": "code",
   "execution_count": 0,
   "metadata": {
    "application/vnd.databricks.v1+cell": {
     "cellMetadata": {},
     "inputWidgets": {},
     "nuid": "6440efdd-e876-4ea5-99cb-fbcd9ef65757",
     "showTitle": false,
     "tableResultSettingsMap": {},
     "title": ""
    }
   },
   "outputs": [],
   "source": []
  }
 ],
 "metadata": {
  "application/vnd.databricks.v1+notebook": {
   "computePreferences": null,
   "dashboards": [],
   "environmentMetadata": {
    "base_environment": "",
    "environment_version": "2"
   },
   "inputWidgetPreferences": null,
   "language": "python",
   "notebookMetadata": {
    "mostRecentlyExecutedCommandWithImplicitDF": {
     "commandId": 6960380036548058,
     "dataframes": [
      "_sqldf"
     ]
    },
    "pythonIndentUnit": 4
   },
   "notebookName": "Encounters",
   "widgets": {}
  },
  "language_info": {
   "name": "python"
  }
 },
 "nbformat": 4,
 "nbformat_minor": 0
}
